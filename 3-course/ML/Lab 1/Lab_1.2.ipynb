{
 "cells": [
  {
   "cell_type": "code",
   "execution_count": 34,
   "id": "f006a8f6-946e-4400-bfad-ac901bfdf135",
   "metadata": {},
   "outputs": [],
   "source": [
    "from sklearn import datasets, linear_model\n",
    "import pandas as pd\n",
    "import numpy as np\n",
    "from sklearn.model_selection import train_test_split\n",
    "import matplotlib.pyplot as plt\n",
    "from sklearn.metrics import r2_score\n",
    "from sklearn import metrics"
   ]
  },
  {
   "cell_type": "code",
   "execution_count": 4,
   "id": "5afdcfb3-de98-4ebb-9e76-de82c6f89e40",
   "metadata": {},
   "outputs": [],
   "source": [
    "diabetes = datasets.load_diabetes()"
   ]
  },
  {
   "cell_type": "code",
   "execution_count": 6,
   "id": "535a5ee8-01bd-40cc-af58-75f036c0e5f7",
   "metadata": {},
   "outputs": [
    {
     "data": {
      "text/plain": [
       "dict_keys(['data', 'target', 'frame', 'DESCR', 'feature_names', 'data_filename', 'target_filename', 'data_module'])"
      ]
     },
     "execution_count": 6,
     "metadata": {},
     "output_type": "execute_result"
    }
   ],
   "source": [
    "diabetes.keys()"
   ]
  },
  {
   "cell_type": "code",
   "execution_count": 9,
   "id": "c12d1c3a-a0cc-4438-8d86-c89c47290686",
   "metadata": {},
   "outputs": [
    {
     "data": {
      "text/plain": [
       "['age', 'sex', 'bmi', 'bp', 's1', 's2', 's3', 's4', 's5', 's6']"
      ]
     },
     "execution_count": 9,
     "metadata": {},
     "output_type": "execute_result"
    }
   ],
   "source": [
    "diabetes.feature_names"
   ]
  },
  {
   "cell_type": "code",
   "execution_count": 11,
   "id": "73d632e7-f783-4b45-82d6-220b1f575868",
   "metadata": {},
   "outputs": [],
   "source": [
    "diabetes_X = diabetes.data[:, np.newaxis, 2]  #bmi\n",
    "# diabetes_X"
   ]
  },
  {
   "cell_type": "code",
   "execution_count": 13,
   "id": "b3a0bd4e-0261-44f8-82fe-fe79a2fad8eb",
   "metadata": {},
   "outputs": [],
   "source": [
    "diabetes_X_train = diabetes_X[:-20]\n",
    "diabetes_X_test = diabetes_X[-20:]\n",
    "\n",
    "diabetes_y_train = diabetes.target[:-20]\n",
    "diabetes_y_test = diabetes.target[-20:]"
   ]
  },
  {
   "cell_type": "code",
   "execution_count": 15,
   "id": "2c362a0e-f13c-4a31-86a0-249d8504cc2f",
   "metadata": {},
   "outputs": [
    {
     "data": {
      "text/plain": [
       "array([938.23786125])"
      ]
     },
     "execution_count": 15,
     "metadata": {},
     "output_type": "execute_result"
    }
   ],
   "source": [
    "library = linear_model.LinearRegression()\n",
    "library.fit(diabetes_X_train, diabetes_y_train)\n",
    "diabetes_y_pred = library.predict(diabetes_X_test)\n",
    "library.coef_"
   ]
  },
  {
   "cell_type": "code",
   "execution_count": 17,
   "id": "c4b36158-b9fe-49dd-9962-3fb747059087",
   "metadata": {},
   "outputs": [],
   "source": [
    "def my_linear(x, y):\n",
    "    n = len(x)\n",
    "    mx = x.sum()/n\n",
    "    my = y.sum()/n\n",
    "    a2 = np.dot(x.T, x)/n\n",
    "    a11 = np.dot(x.T, y)/n\n",
    "    k = (a11-mx*my)/(a2-mx**2)\n",
    "    b = my - k*mx\n",
    "    return k, b"
   ]
  },
  {
   "cell_type": "code",
   "execution_count": 19,
   "id": "6613ea0e-80f4-44bd-add6-58abe1a0f4dd",
   "metadata": {},
   "outputs": [
    {
     "name": "stdout",
     "output_type": "stream",
     "text": [
      "938.237861251352 152.91886182616113\n"
     ]
    }
   ],
   "source": [
    "k, b = my_linear(diabetes_X_train.flatten(), diabetes_y_train)\n",
    "print(k, b)"
   ]
  },
  {
   "cell_type": "code",
   "execution_count": 21,
   "id": "f1ed3ff1-de53-4ee1-a83c-5e32ac7e6154",
   "metadata": {},
   "outputs": [
    {
     "data": {
      "text/html": [
       "<div>\n",
       "<style scoped>\n",
       "    .dataframe tbody tr th:only-of-type {\n",
       "        vertical-align: middle;\n",
       "    }\n",
       "\n",
       "    .dataframe tbody tr th {\n",
       "        vertical-align: top;\n",
       "    }\n",
       "\n",
       "    .dataframe thead th {\n",
       "        text-align: right;\n",
       "    }\n",
       "</style>\n",
       "<table border=\"1\" class=\"dataframe\">\n",
       "  <thead>\n",
       "    <tr style=\"text-align: right;\">\n",
       "      <th></th>\n",
       "      <th>Реальный</th>\n",
       "      <th>Предсказаный</th>\n",
       "    </tr>\n",
       "  </thead>\n",
       "  <tbody>\n",
       "    <tr>\n",
       "      <th>0</th>\n",
       "      <td>233.0</td>\n",
       "      <td>225.973240</td>\n",
       "    </tr>\n",
       "    <tr>\n",
       "      <th>1</th>\n",
       "      <td>91.0</td>\n",
       "      <td>115.747634</td>\n",
       "    </tr>\n",
       "    <tr>\n",
       "      <th>2</th>\n",
       "      <td>111.0</td>\n",
       "      <td>163.276106</td>\n",
       "    </tr>\n",
       "    <tr>\n",
       "      <th>3</th>\n",
       "      <td>152.0</td>\n",
       "      <td>114.736390</td>\n",
       "    </tr>\n",
       "    <tr>\n",
       "      <th>4</th>\n",
       "      <td>120.0</td>\n",
       "      <td>120.803854</td>\n",
       "    </tr>\n",
       "    <tr>\n",
       "      <th>5</th>\n",
       "      <td>67.0</td>\n",
       "      <td>158.219886</td>\n",
       "    </tr>\n",
       "    <tr>\n",
       "      <th>6</th>\n",
       "      <td>310.0</td>\n",
       "      <td>236.085681</td>\n",
       "    </tr>\n",
       "    <tr>\n",
       "      <th>7</th>\n",
       "      <td>94.0</td>\n",
       "      <td>121.815098</td>\n",
       "    </tr>\n",
       "    <tr>\n",
       "      <th>8</th>\n",
       "      <td>183.0</td>\n",
       "      <td>99.567728</td>\n",
       "    </tr>\n",
       "    <tr>\n",
       "      <th>9</th>\n",
       "      <td>66.0</td>\n",
       "      <td>123.837587</td>\n",
       "    </tr>\n",
       "    <tr>\n",
       "      <th>10</th>\n",
       "      <td>173.0</td>\n",
       "      <td>204.737114</td>\n",
       "    </tr>\n",
       "    <tr>\n",
       "      <th>11</th>\n",
       "      <td>72.0</td>\n",
       "      <td>96.533996</td>\n",
       "    </tr>\n",
       "    <tr>\n",
       "      <th>12</th>\n",
       "      <td>49.0</td>\n",
       "      <td>154.174909</td>\n",
       "    </tr>\n",
       "    <tr>\n",
       "      <th>13</th>\n",
       "      <td>64.0</td>\n",
       "      <td>130.916295</td>\n",
       "    </tr>\n",
       "    <tr>\n",
       "      <th>14</th>\n",
       "      <td>48.0</td>\n",
       "      <td>83.387823</td>\n",
       "    </tr>\n",
       "    <tr>\n",
       "      <th>15</th>\n",
       "      <td>178.0</td>\n",
       "      <td>171.366059</td>\n",
       "    </tr>\n",
       "    <tr>\n",
       "      <th>16</th>\n",
       "      <td>104.0</td>\n",
       "      <td>137.995004</td>\n",
       "    </tr>\n",
       "    <tr>\n",
       "      <th>17</th>\n",
       "      <td>132.0</td>\n",
       "      <td>137.995004</td>\n",
       "    </tr>\n",
       "    <tr>\n",
       "      <th>18</th>\n",
       "      <td>220.0</td>\n",
       "      <td>189.568453</td>\n",
       "    </tr>\n",
       "    <tr>\n",
       "      <th>19</th>\n",
       "      <td>57.0</td>\n",
       "      <td>84.399067</td>\n",
       "    </tr>\n",
       "  </tbody>\n",
       "</table>\n",
       "</div>"
      ],
      "text/plain": [
       "    Реальный  Предсказаный\n",
       "0      233.0    225.973240\n",
       "1       91.0    115.747634\n",
       "2      111.0    163.276106\n",
       "3      152.0    114.736390\n",
       "4      120.0    120.803854\n",
       "5       67.0    158.219886\n",
       "6      310.0    236.085681\n",
       "7       94.0    121.815098\n",
       "8      183.0     99.567728\n",
       "9       66.0    123.837587\n",
       "10     173.0    204.737114\n",
       "11      72.0     96.533996\n",
       "12      49.0    154.174909\n",
       "13      64.0    130.916295\n",
       "14      48.0     83.387823\n",
       "15     178.0    171.366059\n",
       "16     104.0    137.995004\n",
       "17     132.0    137.995004\n",
       "18     220.0    189.568453\n",
       "19      57.0     84.399067"
      ]
     },
     "execution_count": 21,
     "metadata": {},
     "output_type": "execute_result"
    }
   ],
   "source": [
    "df = pd.DataFrame({'Реальный': diabetes_y_test, 'Предсказаный': diabetes_y_pred})\n",
    "df"
   ]
  },
  {
   "cell_type": "code",
   "execution_count": 23,
   "id": "f4d4b79e-7723-437f-9561-b50bc44bfd97",
   "metadata": {},
   "outputs": [
    {
     "data": {
      "text/plain": [
       "[<matplotlib.lines.Line2D at 0x15114f890>]"
      ]
     },
     "execution_count": 23,
     "metadata": {},
     "output_type": "execute_result"
    },
    {
     "data": {
      "image/png": "[encoded data removed]",
      "text/plain": [
       "<Figure size 640x480 with 1 Axes>"
      ]
     },
     "metadata": {},
     "output_type": "display_data"
    }
   ],
   "source": [
    "plt.scatter(diabetes_X_test, diabetes_y_test)\n",
    "plt.plot(diabetes_X_test, diabetes_y_pred, color='green', linewidth=3)"
   ]
  },
  {
   "cell_type": "markdown",
   "id": "d4851e79-e69c-459f-ab55-18c7bff41156",
   "metadata": {},
   "source": [
    "№ 1.3"
   ]
  },
  {
   "cell_type": "code",
   "execution_count": 28,
   "id": "964b2537-1e30-41f5-8c88-1c9fee4deed4",
   "metadata": {},
   "outputs": [
    {
     "name": "stdout",
     "output_type": "stream",
     "text": [
      "Coefficient of determination: 0.47\n"
     ]
    }
   ],
   "source": [
    "print(\"Coefficient of determination: %.2f\" % r2_score(diabetes_y_test, diabetes_y_pred))"
   ]
  },
  {
   "cell_type": "code",
   "execution_count": 42,
   "id": "f7bc2afb-f0d2-4107-8bc1-cb20cdcf9067",
   "metadata": {},
   "outputs": [
    {
     "name": "stdout",
     "output_type": "stream",
     "text": [
      "MAE 41.23\n"
     ]
    }
   ],
   "source": [
    "print(\"MAE %.2f\" % metrics.mean_absolute_error(diabetes_y_test, diabetes_y_pred))"
   ]
  },
  {
   "cell_type": "code",
   "execution_count": 48,
   "id": "3d1aee90-f46e-47a7-8514-2d6cc47e9e8b",
   "metadata": {},
   "outputs": [
    {
     "name": "stdout",
     "output_type": "stream",
     "text": [
      "MAPE 48.68\n"
     ]
    }
   ],
   "source": [
    "print(\"MAPE %.2f\" % (100 * (np.abs(diabetes_y_test - diabetes_y_pred) / diabetes_y_test).mean()))"
   ]
  },
  {
   "cell_type": "code",
   "execution_count": null,
   "id": "551a4ede-6ff3-4511-bc6b-843bbc39cc1d",
   "metadata": {},
   "outputs": [],
   "source": []
  }
 ],
 "metadata": {
  "kernelspec": {
   "display_name": "Python 3 (ipykernel)",
   "language": "python",
   "name": "python3"
  },
  "language_info": {
   "codemirror_mode": {
    "name": "ipython",
    "version": 3
   },
   "file_extension": ".py",
   "mimetype": "text/x-python",
   "name": "python",
   "nbconvert_exporter": "python",
   "pygments_lexer": "ipython3",
   "version": "3.12.4"
  }
 },
 "nbformat": 4,
 "nbformat_minor": 5
}
